{
  "nbformat": 4,
  "nbformat_minor": 0,
  "metadata": {
    "colab": {
      "provenance": []
    },
    "kernelspec": {
      "name": "python3",
      "display_name": "Python 3"
    },
    "language_info": {
      "name": "python"
    }
  },
  "cells": [
    {
      "cell_type": "code",
      "execution_count": null,
      "metadata": {
        "id": "NEd6sp1jN-rE"
      },
      "outputs": [],
      "source": []
    },
    {
      "cell_type": "markdown",
      "source": [
        "**Q1. What are data structures, and why are they important.**\n",
        "\n",
        "ans - Data structures are organized formats for storing and managing data.\n",
        "Data structures are important because they define how data is stored, accessed, and manipulated in databases."
      ],
      "metadata": {
        "id": "v_M2N3saONuj"
      }
    },
    {
      "cell_type": "code",
      "source": [],
      "metadata": {
        "id": "5MX-O-YdQNi8"
      },
      "execution_count": null,
      "outputs": []
    },
    {
      "cell_type": "markdown",
      "source": [
        "**Q2.  Explain the difference between mutable and immutable data types with examples.**\n",
        "\n",
        "Ans : Mutable data types can be modified once it defined. For ex - List, However immutable cann't be modified once defined for ex - Tuples."
      ],
      "metadata": {
        "id": "W8LjTvTHQNrN"
      }
    },
    {
      "cell_type": "markdown",
      "source": [
        "**Q3. What are the main differences between lists and tuples in Pythone.**\n",
        "\n",
        "Ans - List are mutable however tuples are immutable.\n"
      ],
      "metadata": {
        "id": "UpWXydK3Q09I"
      }
    },
    {
      "cell_type": "markdown",
      "source": [
        "**Q.4 Describe how dictionaries store data.**\n",
        "\n",
        "Ans - These are the ways -\n",
        "      1). Standard Table Format 2).  Standard Table Format ETC.\n",
        "    "
      ],
      "metadata": {
        "id": "N56zkHE6Ri6s"
      }
    },
    {
      "cell_type": "markdown",
      "source": [
        "**Q5. Why might you use a set instead of a list in Pythone.**\n",
        "\n",
        "Ans - Here are reasons to use SET instead of list in python.\n",
        "      1). Set automatically removes duplicates data. Every element in a set is unique. however list allow duplicate data.\n",
        "      2). set does not maintain the order of elements. However List does.\n",
        "      THere are also more reasons like faster lookups and all."
      ],
      "metadata": {
        "id": "thDLyMwwS1DM"
      }
    },
    {
      "cell_type": "markdown",
      "source": [
        "**Q6. What is a string in Python, and how is it different from a list ?**\n",
        "\n",
        "Ans - String use for immutable data like text, however list are use for collecting various types of data which are immutable."
      ],
      "metadata": {
        "id": "OMJkz_3FYKPC"
      }
    },
    {
      "cell_type": "markdown",
      "source": [
        "**Q7. How do tuples ensure data integrity in Python ?**\n",
        "\n",
        "Ans - Tuples can't be changed once defined, so tuples are prevanted from  accidental Changes and that's how tuples ensure data integrity."
      ],
      "metadata": {
        "id": "EiBSNq8Mc-4Y"
      }
    },
    {
      "cell_type": "markdown",
      "source": [
        "**Q8. What is a hash table, and how does it relate to dictionaries in Python ?**\n",
        "\n",
        "Ans - A hash table is a data structure that stores key value and allows fast access to values based on their keys."
      ],
      "metadata": {
        "id": "TuPEMU_7eS3Q"
      }
    },
    {
      "cell_type": "markdown",
      "source": [
        "**Q9 . Can lists contain different data types in Python ?**\n",
        "\n",
        "Ans - Yes."
      ],
      "metadata": {
        "id": "R3G5XrtGevAR"
      }
    },
    {
      "cell_type": "markdown",
      "source": [
        "Q.10  Explain why strings are immutable in Python ?\n",
        "\n",
        "Ans - Generally we use strings for text purposes and that time we need same type of data which can't be modified."
      ],
      "metadata": {
        "id": "slEqIOVne5E9"
      }
    },
    {
      "cell_type": "markdown",
      "source": [
        "**Q11. What advantages do dictionaries offer over lists for certain task ?**\n",
        "\n",
        "Ans - 1. Faster Lookups 2. Key-Based Access etc."
      ],
      "metadata": {
        "id": "ArsLCdlRfYNd"
      }
    },
    {
      "cell_type": "markdown",
      "source": [
        "**Q12. Describe a scenario where using a tuple would be preferable over a list**\n",
        "\n",
        "Ans - Tuples are more preferable over list where we don't want to change the data like as some location, account numbers, zip code etc."
      ],
      "metadata": {
        "id": "QuEdB9LGf5qA"
      }
    },
    {
      "cell_type": "markdown",
      "source": [
        "**Q13. How do sets handle duplicate values in Python ?**\n",
        "Ans - Sets handle duplicate valuse in python authomatically because it is programmed to handle only unique elements."
      ],
      "metadata": {
        "id": "1FejXJW0gwrf"
      }
    },
    {
      "cell_type": "markdown",
      "source": [
        "**Q14. How does the “in” keyword work differently for lists and dictionaries ?**\n",
        "\n",
        "Ans - use of \"in\" in list provide the exect value however in dictionaries provides the result of key is present or not."
      ],
      "metadata": {
        "id": "gr6bzXsOhgf_"
      }
    },
    {
      "cell_type": "markdown",
      "source": [
        "**Q15. Can you modify the elements of a tuple? Explain why or why not ?**\n",
        "\n",
        "Ans - NO, becuae it is programmed to be a immutable data type.\n",
        "\n"
      ],
      "metadata": {
        "id": "ouOA6qhRit8z"
      }
    },
    {
      "cell_type": "markdown",
      "source": [
        "**Q16. What is a nested dictionary, and give an example of its use case.**\n",
        "\n",
        "Ans - A nested dictionary is a dictionary where the value of a key is another dictionary."
      ],
      "metadata": {
        "id": "5l8p0JBhi_kg"
      }
    },
    {
      "cell_type": "markdown",
      "source": [
        "**Q17. Describe the time complexity of accessing elements in a dictionary.**\n",
        "\n",
        "Ans - Don't know."
      ],
      "metadata": {
        "id": "kU57JL-vjTtI"
      }
    },
    {
      "cell_type": "markdown",
      "source": [
        "**Q18. In what situations are lists preferred over dictionaries ?**\n",
        "\n",
        "Ans - These are the situation. 1. When we need to change data infuture. 2. When we want our data in order or squence. etc.\n",
        "\n"
      ],
      "metadata": {
        "id": "uTBAl6KLjngd"
      }
    },
    {
      "cell_type": "markdown",
      "source": [
        "**Q19. Why are dictionaries considered unordered, and how does that affect data retrieval ?**\n",
        "\n",
        "Ans - Dictionaries are designed to be in unorder and because of it is unoreder it retrives data fast."
      ],
      "metadata": {
        "id": "tpUIdv9ikg3Q"
      }
    },
    {
      "cell_type": "markdown",
      "source": [
        "**Q20. Explain the difference between a list and a dictionary in terms of data retrieval.**\n",
        "\n",
        "Ans - Differences between list and dictionary -\n",
        "      1. List are oreder hoever dictionary are unorder.\n",
        "      2. dictionary retirev the data faster than list.\n"
      ],
      "metadata": {
        "id": "jABblk54lA5v"
      }
    },
    {
      "cell_type": "markdown",
      "source": [
        "\n",
        "********************************************************************************\n"
      ],
      "metadata": {
        "id": "8XB0sbGvl8N_"
      }
    },
    {
      "cell_type": "markdown",
      "source": [
        "### **Practical Questions**"
      ],
      "metadata": {
        "id": "wadfgXdnmC9W"
      }
    },
    {
      "cell_type": "markdown",
      "source": [
        "**Q1 .  Write a code to create a string with your name and print it.**"
      ],
      "metadata": {
        "id": "eYjdYNx_mLSn"
      }
    },
    {
      "cell_type": "code",
      "source": [
        "x = \"Rahul\"\n",
        "print(x)"
      ],
      "metadata": {
        "colab": {
          "base_uri": "https://localhost:8080/"
        },
        "id": "doMkQUrKmV-f",
        "outputId": "6ac3221f-1963-43ef-dbc6-bb84e5fa59f8"
      },
      "execution_count": 5,
      "outputs": [
        {
          "output_type": "stream",
          "name": "stdout",
          "text": [
            "Rahul\n"
          ]
        }
      ]
    },
    {
      "cell_type": "markdown",
      "source": [
        "**Q2. Write a code to find the length of the string \"Hello World\".**\n"
      ],
      "metadata": {
        "id": "O6HoU2RInexk"
      }
    },
    {
      "cell_type": "code",
      "source": [
        "x = \"Hello Wolrd\"\n",
        "Length = len(x)\n",
        "print(Length)"
      ],
      "metadata": {
        "colab": {
          "base_uri": "https://localhost:8080/"
        },
        "id": "og1igd55nnO3",
        "outputId": "1a75244c-e5f9-420b-cd0e-5c2f9bbdb5c9"
      },
      "execution_count": 9,
      "outputs": [
        {
          "output_type": "stream",
          "name": "stdout",
          "text": [
            "11\n"
          ]
        }
      ]
    },
    {
      "cell_type": "markdown",
      "source": [
        "**Q3. Write a code to slice the first 3 characters from the string \"Python Programming**"
      ],
      "metadata": {
        "id": "XR-Aj-sin9yz"
      }
    },
    {
      "cell_type": "code",
      "source": [
        "a = \"Python Programming\"\n",
        "sliced_python = a[:3]\n",
        "print(sliced_python)"
      ],
      "metadata": {
        "colab": {
          "base_uri": "https://localhost:8080/"
        },
        "id": "sG8S2zjXoBae",
        "outputId": "f0398c8b-bb33-4fbc-b64f-870017121f8d"
      },
      "execution_count": 10,
      "outputs": [
        {
          "output_type": "stream",
          "name": "stdout",
          "text": [
            "Pyt\n"
          ]
        }
      ]
    },
    {
      "cell_type": "markdown",
      "source": [
        "**Q4. Write a code to convert the string \"hello\" to uppercase.**"
      ],
      "metadata": {
        "id": "_YuKNgNwotd2"
      }
    },
    {
      "cell_type": "code",
      "source": [
        "\n",
        "x = \"hello pw\"\n",
        "\n",
        "Uppercase_x = x.upper()\n",
        "\n",
        "print(Uppercase_x)\n"
      ],
      "metadata": {
        "colab": {
          "base_uri": "https://localhost:8080/"
        },
        "id": "9K9-yGlBo5uu",
        "outputId": "9c36ad27-10ef-4dea-8d9f-a4e27299f54a"
      },
      "execution_count": 16,
      "outputs": [
        {
          "output_type": "stream",
          "name": "stdout",
          "text": [
            "HELLO PW\n"
          ]
        }
      ]
    },
    {
      "cell_type": "markdown",
      "source": [
        "**Q5. Write a code to replace the word \"apple\" with \"orange\" in the string \"I like apple.**"
      ],
      "metadata": {
        "id": "4uqm-dr_pmg_"
      }
    },
    {
      "cell_type": "code",
      "source": [
        "my_list = [\"I\", \"like\", \"apple\"]\n",
        "\n",
        "my_list[\"apple\"] = \"orange\"\n",
        "\n",
        "print(my_list)"
      ],
      "metadata": {
        "colab": {
          "base_uri": "https://localhost:8080/",
          "height": 211
        },
        "id": "7N14wGy5psiz",
        "outputId": "b9526999-8fe2-4182-adac-1500b7da5611"
      },
      "execution_count": 16,
      "outputs": [
        {
          "output_type": "error",
          "ename": "TypeError",
          "evalue": "list indices must be integers or slices, not str",
          "traceback": [
            "\u001b[0;31m---------------------------------------------------------------------------\u001b[0m",
            "\u001b[0;31mTypeError\u001b[0m                                 Traceback (most recent call last)",
            "\u001b[0;32m<ipython-input-16-6db4e884e959>\u001b[0m in \u001b[0;36m<cell line: 0>\u001b[0;34m()\u001b[0m\n\u001b[1;32m      1\u001b[0m \u001b[0mmy_list\u001b[0m \u001b[0;34m=\u001b[0m \u001b[0;34m[\u001b[0m\u001b[0;34m\"I\"\u001b[0m\u001b[0;34m,\u001b[0m \u001b[0;34m\"like\"\u001b[0m\u001b[0;34m,\u001b[0m \u001b[0;34m\"apple\"\u001b[0m\u001b[0;34m]\u001b[0m\u001b[0;34m\u001b[0m\u001b[0;34m\u001b[0m\u001b[0m\n\u001b[1;32m      2\u001b[0m \u001b[0;34m\u001b[0m\u001b[0m\n\u001b[0;32m----> 3\u001b[0;31m \u001b[0mmy_list\u001b[0m\u001b[0;34m[\u001b[0m\u001b[0;34m\"apple\"\u001b[0m\u001b[0;34m]\u001b[0m \u001b[0;34m=\u001b[0m \u001b[0;34m\"orange\"\u001b[0m\u001b[0;34m\u001b[0m\u001b[0;34m\u001b[0m\u001b[0m\n\u001b[0m\u001b[1;32m      4\u001b[0m \u001b[0;34m\u001b[0m\u001b[0m\n\u001b[1;32m      5\u001b[0m \u001b[0mprint\u001b[0m\u001b[0;34m(\u001b[0m\u001b[0mmy_list\u001b[0m\u001b[0;34m)\u001b[0m\u001b[0;34m\u001b[0m\u001b[0;34m\u001b[0m\u001b[0m\n",
            "\u001b[0;31mTypeError\u001b[0m: list indices must be integers or slices, not str"
          ]
        }
      ]
    },
    {
      "cell_type": "markdown",
      "source": [],
      "metadata": {
        "id": "oaIvCKEnuGYs"
      }
    },
    {
      "cell_type": "markdown",
      "source": [
        "**Q6. Write a code to create a list with numbers 1 to 5 and print it.**"
      ],
      "metadata": {
        "id": "xHrNVAplql99"
      }
    },
    {
      "cell_type": "code",
      "source": [
        "my_list = [1,2,3,4,5]\n",
        "print(my_list)"
      ],
      "metadata": {
        "colab": {
          "base_uri": "https://localhost:8080/"
        },
        "id": "rK-3dYmuq2jN",
        "outputId": "f9741d87-6c1a-4a85-c5e2-803b3e5a01b7"
      },
      "execution_count": 28,
      "outputs": [
        {
          "output_type": "stream",
          "name": "stdout",
          "text": [
            "[1, 2, 3, 4, 5]\n"
          ]
        }
      ]
    },
    {
      "cell_type": "markdown",
      "source": [
        "**Q7. Write a code to append the number 10 to the list [1, 2, 3, 4].**"
      ],
      "metadata": {
        "id": "mIZAqPJ0rBSq"
      }
    },
    {
      "cell_type": "code",
      "source": [
        "my_list = [1,2,3,4]\n",
        "my_list.append(10)\n",
        "print(my_list)\n"
      ],
      "metadata": {
        "colab": {
          "base_uri": "https://localhost:8080/"
        },
        "id": "lJp7OdSUrGdp",
        "outputId": "fac4b6f4-bc42-46ee-eae3-fb635c163f8a"
      },
      "execution_count": 29,
      "outputs": [
        {
          "output_type": "stream",
          "name": "stdout",
          "text": [
            "[1, 2, 3, 4, 10]\n"
          ]
        }
      ]
    },
    {
      "cell_type": "markdown",
      "source": [
        "**Q8. Write a code to remove the number 3 from the list [1, 2, 3, 4, 5].**"
      ],
      "metadata": {
        "id": "mp4vC6qbsEsn"
      }
    },
    {
      "cell_type": "code",
      "source": [
        "mylist = [1,2,3,4,5]\n",
        "mylist.remove(3)\n",
        "print(mylist)"
      ],
      "metadata": {
        "colab": {
          "base_uri": "https://localhost:8080/"
        },
        "id": "eADpeqX4sJ8j",
        "outputId": "d0319ece-3380-488e-dc7b-7b66df4f70b8"
      },
      "execution_count": 33,
      "outputs": [
        {
          "output_type": "stream",
          "name": "stdout",
          "text": [
            "[1, 2, 4, 5]\n"
          ]
        }
      ]
    },
    {
      "cell_type": "markdown",
      "source": [
        "**Q9. Write a code to access the second element in the list ['a', 'b', 'c', 'd'].**"
      ],
      "metadata": {
        "id": "beERF9Bdsoso"
      }
    },
    {
      "cell_type": "code",
      "source": [
        "mylist = [\"a\", \"b\", \"c\", \"d\"]\n",
        "second_element = mylist[2]\n",
        "print(second_element)\n",
        ""
      ],
      "metadata": {
        "colab": {
          "base_uri": "https://localhost:8080/"
        },
        "id": "0z9tor1ostip",
        "outputId": "53771aa2-58d9-4227-cad7-314dadd3f05b"
      },
      "execution_count": 39,
      "outputs": [
        {
          "output_type": "stream",
          "name": "stdout",
          "text": [
            "c\n"
          ]
        }
      ]
    },
    {
      "cell_type": "markdown",
      "source": [
        "**Q10. Write a code to reverse the list [10, 20, 30, 40, 50].**\n"
      ],
      "metadata": {
        "id": "8jRfUom7uJBp"
      }
    },
    {
      "cell_type": "code",
      "source": [
        "my_list =  [10, 20, 30, 40, 50]\n",
        "reverse_list = list(reversed(my_list))\n",
        "print(reverse_list)"
      ],
      "metadata": {
        "colab": {
          "base_uri": "https://localhost:8080/"
        },
        "id": "NzVKj32huMDr",
        "outputId": "e0cc253d-e5b8-4adf-d996-69c39222ed93"
      },
      "execution_count": 48,
      "outputs": [
        {
          "output_type": "stream",
          "name": "stdout",
          "text": [
            "[50, 40, 30, 20, 10]\n"
          ]
        }
      ]
    },
    {
      "cell_type": "markdown",
      "source": [
        "**Q11. Write a code to create a tuple with the elements 100, 200, 300 and print it.**"
      ],
      "metadata": {
        "id": "_ouY6xkU-cHD"
      }
    },
    {
      "cell_type": "code",
      "source": [
        "my_tuple = (100, 200, 300)\n",
        "print(my_tuple)"
      ],
      "metadata": {
        "colab": {
          "base_uri": "https://localhost:8080/"
        },
        "id": "Fs-Cv0Ve-jk2",
        "outputId": "2b97ebeb-b766-4f9e-cab8-aff315183135"
      },
      "execution_count": 17,
      "outputs": [
        {
          "output_type": "stream",
          "name": "stdout",
          "text": [
            "(100, 200, 300)\n"
          ]
        }
      ]
    },
    {
      "cell_type": "markdown",
      "source": [
        "**Q12. Write a code to access the second-to-last element of the tuple ('red', 'green', 'blue', 'yellow').**"
      ],
      "metadata": {
        "id": "-4Y4qdJs-wnb"
      }
    },
    {
      "cell_type": "code",
      "source": [
        "colors = ('red', 'green', 'blue', 'yellow')\n",
        "second_to_last = colors[-2]\n",
        "print(second_to_last)"
      ],
      "metadata": {
        "colab": {
          "base_uri": "https://localhost:8080/"
        },
        "id": "S9joRjrH-6YL",
        "outputId": "57adff70-4f1d-464d-c480-115e1b438d9b"
      },
      "execution_count": 18,
      "outputs": [
        {
          "output_type": "stream",
          "name": "stdout",
          "text": [
            "blue\n"
          ]
        }
      ]
    },
    {
      "cell_type": "markdown",
      "source": [
        "**Q13.  Write a code to find the minimum number in the tuple (10, 20, 5, 15).**"
      ],
      "metadata": {
        "id": "aJFIk3Wr_Hsi"
      }
    },
    {
      "cell_type": "code",
      "source": [
        "tuples = (10, 20, 5, 15)\n",
        "minimum = min(tuples)\n",
        "print(minimum)"
      ],
      "metadata": {
        "colab": {
          "base_uri": "https://localhost:8080/"
        },
        "id": "Zb9NwkzA_V0c",
        "outputId": "b22874aa-4066-4c2e-c31d-b09093695295"
      },
      "execution_count": 20,
      "outputs": [
        {
          "output_type": "stream",
          "name": "stdout",
          "text": [
            "5\n"
          ]
        }
      ]
    },
    {
      "cell_type": "markdown",
      "source": [
        "**Q14.  Write a code to find the index of the element \"cat\" in the tuple ('dog', 'cat', 'rabbit').**"
      ],
      "metadata": {
        "id": "5_PA4Q90_qgw"
      }
    },
    {
      "cell_type": "code",
      "source": [
        "animals = ('dog', 'cat', 'rabbit')\n",
        "\n",
        "cat_index = animals.index('cat')\n",
        "\n",
        "print(cat_index)"
      ],
      "metadata": {
        "colab": {
          "base_uri": "https://localhost:8080/"
        },
        "id": "U0cFYMdh_vAK",
        "outputId": "655f5460-8e49-4715-f081-15b203faddc9"
      },
      "execution_count": 21,
      "outputs": [
        {
          "output_type": "stream",
          "name": "stdout",
          "text": [
            "1\n"
          ]
        }
      ]
    },
    {
      "cell_type": "markdown",
      "source": [
        "**Q15. 5. Write a code to create a tuple containing three different fruits and check if \"kiwi\" is in it**"
      ],
      "metadata": {
        "id": "zUnFRquk_6n5"
      }
    },
    {
      "cell_type": "code",
      "source": [
        "fruits = (\"apple\", \"banana\", \"orange\")\n",
        "\n",
        "if \"kiwi\" in fruits:\n",
        "    print(\"Kiwi is in the tuple.\")\n",
        "else:\n",
        "    print(\"Kiwi is not in the tuple.\")\n"
      ],
      "metadata": {
        "colab": {
          "base_uri": "https://localhost:8080/"
        },
        "id": "5Qmhs44I__Dh",
        "outputId": "3c42a6f5-abd2-4f44-fb9a-eaa11724d896"
      },
      "execution_count": 22,
      "outputs": [
        {
          "output_type": "stream",
          "name": "stdout",
          "text": [
            "Kiwi is not in the tuple.\n"
          ]
        }
      ]
    },
    {
      "cell_type": "markdown",
      "source": [
        "**Q16. Write a code to create a set with the elements 'a', 'b', 'c' and print it.**"
      ],
      "metadata": {
        "id": "midV62zpALXg"
      }
    },
    {
      "cell_type": "code",
      "source": [
        "my_set = {'a', 'b', 'c'}\n",
        "\n",
        "print(my_set)"
      ],
      "metadata": {
        "colab": {
          "base_uri": "https://localhost:8080/"
        },
        "id": "UVSECll2AQ3z",
        "outputId": "5cd64da6-5f75-4b78-bd72-cd5ade55facb"
      },
      "execution_count": 25,
      "outputs": [
        {
          "output_type": "stream",
          "name": "stdout",
          "text": [
            "{'c', 'b', 'a'}\n"
          ]
        }
      ]
    },
    {
      "cell_type": "markdown",
      "source": [
        "**Q17. Write a code to clear all elements from the set {1, 2, 3, 4, 5}.**"
      ],
      "metadata": {
        "id": "xop95VDnAveJ"
      }
    },
    {
      "cell_type": "code",
      "source": [
        "my_set = {1, 2, 3, 4, 5}\n",
        "\n",
        "my_set.clear()\n",
        "\n",
        "print(my_set)"
      ],
      "metadata": {
        "colab": {
          "base_uri": "https://localhost:8080/"
        },
        "id": "fmJAmr6vA0SK",
        "outputId": "f6bea18d-e60c-4f91-9a43-0aac48220037"
      },
      "execution_count": 26,
      "outputs": [
        {
          "output_type": "stream",
          "name": "stdout",
          "text": [
            "set()\n"
          ]
        }
      ]
    },
    {
      "cell_type": "markdown",
      "source": [
        "**Q18. Write a code to remove the element 4 from the set {1, 2, 3, 4}.**"
      ],
      "metadata": {
        "id": "5tDYssWkA8DQ"
      }
    },
    {
      "cell_type": "code",
      "source": [
        "my_set = {1, 2, 3, 4}\n",
        "my_set.remove(4)\n",
        "print(my_set)"
      ],
      "metadata": {
        "colab": {
          "base_uri": "https://localhost:8080/"
        },
        "id": "FELTtM_iBAPE",
        "outputId": "c07c5637-e6ae-4f2c-d5b2-2cc61642dae1"
      },
      "execution_count": 28,
      "outputs": [
        {
          "output_type": "stream",
          "name": "stdout",
          "text": [
            "{1, 2, 3}\n"
          ]
        }
      ]
    },
    {
      "cell_type": "markdown",
      "source": [
        "**Q19.Write a code to find the union of two sets {1, 2, 3} and {3, 4, 5}.**"
      ],
      "metadata": {
        "id": "Beqe7wkyBI4T"
      }
    },
    {
      "cell_type": "code",
      "source": [
        "set1 = {1, 2, 3}\n",
        "set2 = {3, 4, 5}\n",
        "\n",
        "union_set = set1.union(set2)\n",
        "\n",
        "print(union_set)"
      ],
      "metadata": {
        "colab": {
          "base_uri": "https://localhost:8080/"
        },
        "id": "X-fht8HXBMKx",
        "outputId": "97cfc977-d4c2-41ec-e291-e967ccec4add"
      },
      "execution_count": 29,
      "outputs": [
        {
          "output_type": "stream",
          "name": "stdout",
          "text": [
            "{1, 2, 3, 4, 5}\n"
          ]
        }
      ]
    },
    {
      "cell_type": "markdown",
      "source": [
        "**Q20.  Write a code to find the intersection of two sets {1, 2, 3} and {2, 3, 4}.**"
      ],
      "metadata": {
        "id": "zfDGSUkn7ASH"
      }
    },
    {
      "cell_type": "code",
      "source": [
        "set1 = {1,2,3}\n",
        "set2 = {2,3,4}\n",
        "\n",
        "intersection_set = set1.intersection(set2)\n",
        "\n",
        "print(intersection_set)"
      ],
      "metadata": {
        "colab": {
          "base_uri": "https://localhost:8080/"
        },
        "id": "KwHq8_JU7CAn",
        "outputId": "61ca3b22-297d-42b4-d726-ec6bc683876f"
      },
      "execution_count": 5,
      "outputs": [
        {
          "output_type": "stream",
          "name": "stdout",
          "text": [
            "{2, 3}\n"
          ]
        }
      ]
    },
    {
      "cell_type": "markdown",
      "source": [
        "**Q21. Write a code to create a dictionary with the keys \"name\", \"age\", and \"city\", and print it.**"
      ],
      "metadata": {
        "id": "nbwUqDZR70V1"
      }
    },
    {
      "cell_type": "code",
      "source": [
        "x = { \"name\" : \"Rahul\", \"age\" : 24, \"city\" : \"DBG\"}\n",
        "\n",
        "print(x)"
      ],
      "metadata": {
        "colab": {
          "base_uri": "https://localhost:8080/"
        },
        "id": "VArZW4Ki73oc",
        "outputId": "9b08de4f-0bd7-47c7-feb4-0694e162e77d"
      },
      "execution_count": 6,
      "outputs": [
        {
          "output_type": "stream",
          "name": "stdout",
          "text": [
            "{'name': 'Rahul', 'age': 24, 'city': 'DBG'}\n"
          ]
        }
      ]
    },
    {
      "cell_type": "markdown",
      "source": [
        "**Q22. Write a code to add a new key-value pair \"country\": \"USA\" to the dictionary {'name': 'John', 'age': 25}.**"
      ],
      "metadata": {
        "id": "XwigDjbb8guM"
      }
    },
    {
      "cell_type": "code",
      "source": [
        "Details = {\"name\" : \"Rahul\", \"City\" : \"iowa\",}\n",
        "Details[\"country\"] =  \"USA\"\n",
        "\n",
        "print(Details)"
      ],
      "metadata": {
        "colab": {
          "base_uri": "https://localhost:8080/"
        },
        "id": "yZtEKslp8mlA",
        "outputId": "5326f022-c5e2-411e-d2f6-8d7284a52294"
      },
      "execution_count": 10,
      "outputs": [
        {
          "output_type": "stream",
          "name": "stdout",
          "text": [
            "{'name': 'Rahul', 'City': 'iowa', 'country': 'USA'}\n"
          ]
        }
      ]
    },
    {
      "cell_type": "markdown",
      "source": [
        "**Q23. Write a code to remove the key \"age\" from the dictionary {'name': 'Bob', 'age': 22, 'city': 'New York'}.**"
      ],
      "metadata": {
        "id": "-RoCYJiZB_gC"
      }
    },
    {
      "cell_type": "code",
      "source": [
        "my_dictionary = {'name': 'Bob', 'age': 22, 'city': 'New York'}\n",
        "\n",
        "name_value = my_dictionary['name']\n",
        "\n",
        "print(my_dictionary )"
      ],
      "metadata": {
        "colab": {
          "base_uri": "https://localhost:8080/"
        },
        "id": "2jl0iTsGCCJt",
        "outputId": "a6358cc6-96ad-4965-e68e-a2d5d673b4b3"
      },
      "execution_count": 40,
      "outputs": [
        {
          "output_type": "stream",
          "name": "stdout",
          "text": [
            "{'name': 'Bob', 'age': 22, 'city': 'New York'}\n"
          ]
        }
      ]
    },
    {
      "cell_type": "markdown",
      "source": [
        "**Q24. Write a code to access the value associated with the key \"name\" in the dictionary {'name': 'Alice', 'age': 30}.**"
      ],
      "metadata": {
        "id": "XtADC_T_DOtx"
      }
    },
    {
      "cell_type": "code",
      "source": [
        "my_dictionary = {'name': 'Alice', 'age': 30}\n",
        "\n",
        "name_value = my_dictionary['name']\n",
        "\n",
        "print(name_value)"
      ],
      "metadata": {
        "colab": {
          "base_uri": "https://localhost:8080/"
        },
        "id": "OhswAB9IDQBK",
        "outputId": "919f82e4-628c-41ac-90fc-ce7bb1a5de29"
      },
      "execution_count": 42,
      "outputs": [
        {
          "output_type": "stream",
          "name": "stdout",
          "text": [
            "Alice\n"
          ]
        }
      ]
    },
    {
      "cell_type": "markdown",
      "source": [
        "**25. Write a code to check if the key \"city\" exists in the dictionary {'name': 'Alice', 'city': 'Paris'}**"
      ],
      "metadata": {
        "id": "3swipaWDDdne"
      }
    },
    {
      "cell_type": "code",
      "source": [
        "my_dictionary =  {'name': 'Alice', 'city': 'Paris'}\n",
        "if 'city' in my_dictionary:\n",
        "    print(\"The key 'city' exists in the dictionary.\")\n",
        "else:\n",
        "    print(\"The key 'city' does not exist in the dictionary.\")"
      ],
      "metadata": {
        "colab": {
          "base_uri": "https://localhost:8080/"
        },
        "id": "NR8G8gzBDixM",
        "outputId": "cccc744a-ae5a-463a-f537-3541370f0399"
      },
      "execution_count": 43,
      "outputs": [
        {
          "output_type": "stream",
          "name": "stdout",
          "text": [
            "The key 'city' exists in the dictionary.\n"
          ]
        }
      ]
    },
    {
      "cell_type": "markdown",
      "source": [
        "** Q26. Write a code to create a list, a tuple, and a dictionary, and print them all.**"
      ],
      "metadata": {
        "id": "DjI0ABYkSKFm"
      }
    },
    {
      "cell_type": "code",
      "source": [
        "my_list = [1, 2, 3, 4, 5]\n",
        "\n",
        "my_tuple = (6,7,8,9)\n",
        "\n",
        "my_dictionary = {'name': 'Alice', 'age': 30, 'city': 'Paris'}\n",
        "\n",
        "print(\"List:\", my_list)\n",
        "print(\"Tuple:\", my_tuple)\n",
        "print(\"Dictionary:\", my_dictionary)"
      ],
      "metadata": {
        "colab": {
          "base_uri": "https://localhost:8080/"
        },
        "id": "tcWxGFrSXkKo",
        "outputId": "1373d9e5-9118-4a7e-ac42-12dbcc16dd35"
      },
      "execution_count": 47,
      "outputs": [
        {
          "output_type": "stream",
          "name": "stdout",
          "text": [
            "List: [1, 2, 3, 4, 5]\n",
            "Tuple: (6, 7, 8, 9)\n",
            "Dictionary: {'name': 'Alice', 'age': 30, 'city': 'Paris'}\n"
          ]
        }
      ]
    },
    {
      "cell_type": "markdown",
      "source": [
        "**Q27.  Write a code to create a list of 5 random numbers between 1 and 100, sort it in ascending order, and print the result.(replaced)**"
      ],
      "metadata": {
        "id": "vimq33vZYdH3"
      }
    },
    {
      "cell_type": "code",
      "source": [],
      "metadata": {
        "id": "tuSwXD4EZLa2"
      },
      "execution_count": null,
      "outputs": []
    },
    {
      "cell_type": "markdown",
      "source": [
        "**Q28. Write a code to create a list with strings and print the element at the third index.**"
      ],
      "metadata": {
        "id": "UkDytfCDZVtv"
      }
    },
    {
      "cell_type": "code",
      "source": [],
      "metadata": {
        "id": "TO78ftoSZgXz"
      },
      "execution_count": null,
      "outputs": []
    },
    {
      "cell_type": "code",
      "source": [
        "string_list = ['Ram', 'Shyan', 'Mohan', 'Sohan']\n",
        "\n",
        "print(\"Element at index 3:\", string_list[3])"
      ],
      "metadata": {
        "colab": {
          "base_uri": "https://localhost:8080/"
        },
        "id": "V1wfN3nDZb38",
        "outputId": "d86ea8e7-72ba-4e1f-a753-ebcf42194da0"
      },
      "execution_count": 48,
      "outputs": [
        {
          "output_type": "stream",
          "name": "stdout",
          "text": [
            "Element at index 3: Sohan\n"
          ]
        }
      ]
    },
    {
      "cell_type": "markdown",
      "source": [
        "**Q29. Write a code to combine two dictionaries into one and print the result.**"
      ],
      "metadata": {
        "id": "f85OHqqKZwI-"
      }
    },
    {
      "cell_type": "code",
      "source": [
        "dictionary_1 = {'name': 'Rahul', 'age': 25}\n",
        "\n",
        "dictionary_2 = {'city': 'DBG', 'country': 'India'}\n",
        "\n",
        "print(dictionary_1)\n",
        "print(dictionary_2)\n",
        "\n",
        "\n",
        "\n"
      ],
      "metadata": {
        "colab": {
          "base_uri": "https://localhost:8080/"
        },
        "id": "9wgG114OZ6Eu",
        "outputId": "7dd3bda1-6f83-4449-db33-2cc32cfb45fc"
      },
      "execution_count": 49,
      "outputs": [
        {
          "output_type": "stream",
          "name": "stdout",
          "text": [
            "{'name': 'Rahul', 'age': 25}\n",
            "{'city': 'DBG', 'country': 'India'}\n"
          ]
        }
      ]
    },
    {
      "cell_type": "markdown",
      "source": [
        "**Q30. Write a code to convert a list of strings into a set.**"
      ],
      "metadata": {
        "id": "0JN292d8aXR2"
      }
    },
    {
      "cell_type": "code",
      "source": [
        "string_list = ['apple', 'banana','orange']\n",
        "string_set = set(string_list)\n",
        "print(\"Set:\", string_set)"
      ],
      "metadata": {
        "colab": {
          "base_uri": "https://localhost:8080/"
        },
        "id": "t1T6fsJBaaot",
        "outputId": "ec2bfe10-4df9-4a27-8c6f-0ce08a5b6f86"
      },
      "execution_count": 50,
      "outputs": [
        {
          "output_type": "stream",
          "name": "stdout",
          "text": [
            "Set: {'orange', 'apple', 'banana'}\n"
          ]
        }
      ]
    }
  ]
}